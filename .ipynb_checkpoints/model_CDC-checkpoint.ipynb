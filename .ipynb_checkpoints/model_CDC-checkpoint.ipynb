{
 "cells": [
  {
   "cell_type": "code",
   "execution_count": 3,
   "metadata": {},
   "outputs": [],
   "source": [
    "import pandas as pd\n",
    "df = pd.read_csv('CDC_CLEANED.csv')"
   ]
  },
  {
   "cell_type": "code",
   "execution_count": 4,
   "metadata": {},
   "outputs": [],
   "source": [
    "data.dropna(inplace = True, thresh = 250000, axis = 1)"
   ]
  },
  {
   "cell_type": "code",
   "execution_count": 16,
   "metadata": {},
   "outputs": [],
   "source": [
    "new_data = data.drop(['open-end_line_of_credit', 'rate_spread', 'total_loan_costs', 'origination_charges',\n",
    "        'loan_term', 'interest_only_payment',\n",
    "       'co-applicant_credit_score_type',\n",
    "       'applicant_ethnicity-1', 'co-applicant_ethnicity-1', 'applicant_race-1',\n",
    "       'co-applicant_race-1', 'co-applicant_age','applicant_age_above_62', 'tract_one_to_four_family_homes'], axis =1)"
   ]
  },
  {
   "cell_type": "code",
   "execution_count": 63,
   "metadata": {},
   "outputs": [],
   "source": [
    "new_data = new_data[pd.notnull(new_data['county_code'])]"
   ]
  },
  {
   "cell_type": "code",
   "execution_count": 82,
   "metadata": {},
   "outputs": [
    {
     "data": {
      "text/plain": [
       "county_code                               0\n",
       "census_tract                           1094\n",
       "conforming_loan_limit                     0\n",
       "derived_loan_product_type                 0\n",
       "derived_ethnicity                         0\n",
       "derived_race                              0\n",
       "derived_sex                               0\n",
       "action_taken                              0\n",
       "purchaser_type                            0\n",
       "preapproval                               0\n",
       "loan_type                                 0\n",
       "loan_purpose                              0\n",
       "business_or_commercial_purpose            0\n",
       "loan_amount                               0\n",
       "loan_to_value_ratio                  198355\n",
       "interest_rate                        184643\n",
       "property_value                       115585\n",
       "occupancy_type                            0\n",
       "total_units                               0\n",
       "income                                70851\n",
       "debt_to_income_ratio                 193735\n",
       "applicant_age                             0\n",
       "denial_reason-1                           0\n",
       "tract_population                          0\n",
       "tract_minority_population_percent         0\n",
       "ffiec_msa_md_median_family_income         0\n",
       "tract_to_msa_income_percentage            0\n",
       "tract_owner_occupied_units                0\n",
       "tract_median_age_of_housing_units         0\n",
       "dtype: int64"
      ]
     },
     "execution_count": 82,
     "metadata": {},
     "output_type": "execute_result"
    }
   ],
   "source": [
    "new_data.isnull().sum()"
   ]
  },
  {
   "cell_type": "code",
   "execution_count": 96,
   "metadata": {},
   "outputs": [],
   "source": [
    "fin_data = new_data.copy()"
   ]
  },
  {
   "cell_type": "code",
   "execution_count": null,
   "metadata": {},
   "outputs": [],
   "source": [
    "train_x, test_x, train_y, train_y = "
   ]
  },
  {
   "cell_type": "code",
   "execution_count": 94,
   "metadata": {},
   "outputs": [],
   "source": [
    "from sklearn.pipeline import Pipeline\n",
    "from sklearn.compose import ColumnTransformer\n",
    "from sklearn.impute import SimpleImputer\n",
    "from sklearn.preprocessing import OneHotEncoder, StandardScaler, OrdinalEncoder\n",
    "from sklearn.pipeline import Pipeline\n",
    "from sklearn.compose import make_column_selector as selector\n",
    "\n",
    "numeric_features = ['income', 'loan_amount', 'tract_minority_population_percent']\n",
    "numeric_transformer = Pipeline(steps=[\n",
    "    ('imputer', SimpleImputer(strategy='median')),\n",
    "    ('scaler', StandardScaler())])\n",
    "\n",
    "categorical_features = ['applicant_age', 'derived_sex', 'derived_race', 'derived_ethnicity', 'loan_type', 'county_code', 'denial_reason-1']\n",
    "\n",
    "categorical_transformer = Pipeline(steps=[\n",
    "    ('encoder', OrdinalEncoder()),\n",
    "    #('imputer', SimpleImputer(strategy='constant', fill_value='mode')),\n",
    "    ('onehot', OneHotEncoder(handle_unknown='ignore'))\n",
    "     ])\n",
    "\n",
    "preprocessor = ColumnTransformer(transformers=[\n",
    "    ('num', numeric_transformer, selector(dtype_exclude='object')),\n",
    "    ('cat', categorical_transformer, selector(dtype_include='object'))\n",
    "    ])\n",
    "\n",
    "total_features = ['income', 'loan_amount', 'tract_minority_population_percent', 'applicant_age', 'derived_sex', 'derived_race', 'derived_ethnicity', 'loan_type', 'county_code', 'denial_reason-1']"
   ]
  },
  {
   "cell_type": "code",
   "execution_count": 95,
   "metadata": {},
   "outputs": [
    {
     "data": {
      "text/plain": [
       "array([[-0.22148857, -0.13563727,  1.7722975 , ...,  1.        ,\n",
       "         0.        ,  0.        ],\n",
       "       [-0.22148857, -0.13563727,  1.7722975 , ...,  1.        ,\n",
       "         0.        ,  0.        ],\n",
       "       [-0.28572082, -0.12759344,  0.73370683, ...,  1.        ,\n",
       "         0.        ,  0.        ],\n",
       "       ...,\n",
       "       [ 0.03115829,  0.0976338 , -0.8269636 , ...,  0.        ,\n",
       "         0.        ,  1.        ],\n",
       "       [ 0.10823699,  0.06545848, -0.23109657, ...,  0.        ,\n",
       "         0.        ,  1.        ],\n",
       "       [-0.20435997, -0.11150578,  0.89566758, ...,  0.        ,\n",
       "         0.        ,  1.        ]])"
      ]
     },
     "execution_count": 95,
     "metadata": {},
     "output_type": "execute_result"
    }
   ],
   "source": [
    "preprocessor.fit_transform(cp_nd[total_features])"
   ]
  },
  {
   "cell_type": "code",
   "execution_count": null,
   "metadata": {},
   "outputs": [],
   "source": []
  },
  {
   "cell_type": "code",
   "execution_count": null,
   "metadata": {},
   "outputs": [],
   "source": []
  }
 ],
 "metadata": {
  "kernelspec": {
   "display_name": "Python 3",
   "language": "python",
   "name": "python3"
  },
  "language_info": {
   "codemirror_mode": {
    "name": "ipython",
    "version": 3
   },
   "file_extension": ".py",
   "mimetype": "text/x-python",
   "name": "python",
   "nbconvert_exporter": "python",
   "pygments_lexer": "ipython3",
   "version": "3.7.3"
  }
 },
 "nbformat": 4,
 "nbformat_minor": 4
}
